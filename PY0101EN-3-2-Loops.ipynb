{
 "cells": [
  {
   "cell_type": "markdown",
   "metadata": {},
   "source": [
    "<h1>Loops in Python 循环语句</h1>\n"
   ]
  },
  {
   "cell_type": "markdown",
   "metadata": {},
   "source": [
    "<h2>Table of Contents</h2>\n",
    "<div class=\"alert alert-block alert-info\" style=\"margin-top: 20px\">\n",
    "    <ul>\n",
    "        <li>\n",
    "            <a href=\"#loop\">Loops</a>\n",
    "            <ul>\n",
    "                <li><a href=\"range\">Range</a></li>\n",
    "                <li><a href=\"for\">What is <code>for</code> loop?</a></li>\n",
    "                <li><a href=\"while\">What is <code>while</code> loop?</a></li>\n",
    "            </ul>\n",
    "        </li>\n",
    "        <li>\n",
    "            <a href=\"#quiz\">Quiz on Loops</a>\n",
    "        </li>\n",
    "    </ul>\n",
    "\n",
    "</div>\n",
    "\n",
    "<hr>\n"
   ]
  },
  {
   "cell_type": "markdown",
   "metadata": {},
   "source": [
    "<h3 id=\"range\">Range函数</h3>\n"
   ]
  },
  {
   "cell_type": "markdown",
   "metadata": {
    "tags": []
   },
   "source": [
    "range 函数在 Python 中用于生成一个整数序列。这个序列可以用于 for 循环中，或者其他需要整数序列的地方。range 函数可以有不同数量的参数，具体作用如下：\n",
    "在 Python 中，range() 函数的参数是用逗号 , 分隔的，而不是用冒号 :。是因为 range() 函数是一个内置函数，其参数通过逗号来分隔是 Python 语法的要求。\n",
    "\n",
    "1. 一个参数：生成一个从 0 开始到指定数（不包括该数）的序列。\n",
    "    for i in range(5):\n",
    "    print(i)  # 输出: 0, 1, 2, 3, 4\n",
    "\n",
    "2. 两个参数：生成一个从起始值开始到结束值（不包括该数）的序列。\n",
    "    for i in range(2, 6):\n",
    "    print(i)  # 输出: 2, 3, 4, 5\n",
    "\n",
    "3. 三个参数：生成一个从起始值开始到结束值（不包括该数），步长为指定值的序列。\n",
    "   for i in range(0, 10, 2):\n",
    "   print(i)  # 输出: 0, 2, 4, 6, 8\n",
    "\n",
    "- range 函数的参数可以是以下类型：\n",
    "- start：序列的起始值，默认为 0。\n",
    "- stop：序列的结束值（不包括）。\n",
    "- step：序列的步长，默认为 1。\n",
    "\n",
    "- 特点和用途\n",
    "- 循环控制：range 常用于 for 循环中，作为循环计数器。\n",
    "- 生成序列：可以生成任意步长的整数序列，用于索引、切片等操作。\n",
    "- 内存效率：由于 range 是懒加载的，它不会一次性在内存中生成整个序列，这使得它在处理大量数据时非常高效。\n",
    "- 可迭代对象：range 对象可以被用作任何需要可迭代对象的场合。"
   ]
  },
  {
   "cell_type": "markdown",
   "metadata": {},
   "source": [
    "<h3 id=\"for\">What is <code>for</code> loop? for循环</h3>\n"
   ]
  },
  {
   "cell_type": "markdown",
   "metadata": {},
   "source": [
    "The <code>for</code> loop enables you to execute a code block multiple times. For example, you would use this if you would like to print out every element in a list.    \n",
    "Let's try to use a <code>for</code> loop to print all the years presented in the list <code>dates</code>:\n"
   ]
  },
  {
   "cell_type": "code",
   "execution_count": 1,
   "metadata": {
    "tags": []
   },
   "outputs": [
    {
     "name": "stdout",
     "output_type": "stream",
     "text": [
      "1982\n",
      "1980\n",
      "1973\n"
     ]
    }
   ],
   "source": [
    "# For loop example（手动索引[i]）\n",
    "\n",
    "dates = [1982,1980,1973]    #列表[]\n",
    "N = len(dates)              #确定循环次数\n",
    "\n",
    "for i in range(N):          #range函数用于确认一个序列/组的长度；循环的次数；；；for循环要用空格\n",
    "    print(dates[i])         #print date中索引为i的函数"
   ]
  },
  {
   "cell_type": "markdown",
   "metadata": {},
   "source": [
    "For each iteration, the value of the variable <code>year</code> behaves like the value of <code>dates[i]</code> in the  first example:\n"
   ]
  },
  {
   "cell_type": "markdown",
   "metadata": {},
   "source": [
    "In Python we can directly access the elements in the list as follows: \n"
   ]
  },
  {
   "cell_type": "code",
   "execution_count": 12,
   "metadata": {
    "tags": []
   },
   "outputs": [
    {
     "name": "stdout",
     "output_type": "stream",
     "text": [
      "1982\n",
      "1980\n",
      "1973\n"
     ]
    }
   ],
   "source": [
    "# Exmaple of for loop, loop through list  (自动索引，更符合python语言规范）\n",
    "dates = [1982,1980,1973]  \n",
    "for year in dates:  \n",
    "    print(year)   "
   ]
  },
  {
   "cell_type": "code",
   "execution_count": 11,
   "metadata": {
    "tags": []
   },
   "outputs": [
    {
     "name": "stdout",
     "output_type": "stream",
     "text": [
      "0\n",
      "1\n",
      "2\n",
      "3\n",
      "4\n",
      "5\n",
      "6\n",
      "7\n"
     ]
    }
   ],
   "source": [
    "#print out a sequence of numbers from 0 to 7:\n",
    "\n",
    "for i in range(0,8):\n",
    "    print(i)"
   ]
  },
  {
   "cell_type": "markdown",
   "metadata": {},
   "source": [
    "We can change the elements in a list:\n"
   ]
  },
  {
   "cell_type": "code",
   "execution_count": 4,
   "metadata": {
    "tags": []
   },
   "outputs": [
    {
     "name": "stdout",
     "output_type": "stream",
     "text": [
      "Before square  0 is red\n",
      "After square  0 is white\n",
      "Before square  1 is yellow\n",
      "After square  1 is white\n",
      "Before square  2 is green\n",
      "After square  2 is white\n",
      "Before square  3 is purple\n",
      "After square  3 is white\n",
      "Before square  4 is blue\n",
      "After square  4 is white\n"
     ]
    }
   ],
   "source": [
    "# Use for loop to change the elements in list\n",
    "\n",
    "squares = ['red', 'yellow', 'green', 'purple', 'blue']\n",
    "\n",
    "for i in range(0, 5):\n",
    "    print(\"Before square \", i, 'is',  squares[i])\n",
    "    squares[i] = 'white'\n",
    "    print(\"After square \", i, 'is',  squares[i])"
   ]
  },
  {
   "cell_type": "markdown",
   "metadata": {},
   "source": [
    " We can access the index and the elements of a list as follows: \n"
   ]
  },
  {
   "cell_type": "code",
   "execution_count": 5,
   "metadata": {
    "tags": []
   },
   "outputs": [
    {
     "name": "stdout",
     "output_type": "stream",
     "text": [
      "0 red\n",
      "1 yellow\n",
      "2 green\n",
      "3 purple\n",
      "4 blue\n"
     ]
    }
   ],
   "source": [
    "# Loop through the list and iterate on both index and element value\n",
    "\n",
    "squares=['red', 'yellow', 'green', 'purple', 'blue']\n",
    "\n",
    "for i, square in enumerate(squares):\n",
    "    print(i, square)"
   ]
  },
  {
   "cell_type": "code",
   "execution_count": null,
   "metadata": {},
   "outputs": [],
   "source": []
  },
  {
   "cell_type": "markdown",
   "metadata": {},
   "source": [
    "<h3 id=\"while\">What is <code>while</code> loop? while循环</h3>\n"
   ]
  },
  {
   "cell_type": "markdown",
   "metadata": {},
   "source": [
    "for 循环用于控制重复的流程。然而，如果我们不知道何时想要停止循环怎么办？如果我们想要持续执行代码块，直到满足某个特定条件怎么办？\n",
    "while 循环作为一个工具，基于条件来重复执行。只要给定的逻辑条件返回一个False布尔值，代码块就会持续被执行。\n"
   ]
  },
  {
   "cell_type": "markdown",
   "metadata": {},
   "source": [
    "1. 首先，你需要指定一个条件，循环将在每次迭代（重复）代码块之前检查这个条件。\n",
    "2. 如果条件最初为真，执行代码块。\n",
    "3. 执行完代码块后，再次检查条件。\n",
    "4. 如果条件仍然为真，再次执行代码块。\n",
    "5. 步骤3和4会重复执行，直到条件变为假。\n",
    "6. 一旦条件变为假，循环停止，程序继续执行循环后面的下一行代码。"
   ]
  },
  {
   "cell_type": "markdown",
   "metadata": {},
   "source": [
    "**Here's an example of a while loop that prints numbers from 1 to 5:**\n"
   ]
  },
  {
   "cell_type": "code",
   "execution_count": 15,
   "metadata": {
    "tags": []
   },
   "outputs": [
    {
     "name": "stdout",
     "output_type": "stream",
     "text": [
      "1\n",
      "2\n",
      "3\n",
      "4\n",
      "5\n"
     ]
    }
   ],
   "source": [
    "i = 1\n",
    "while i <= 5:\n",
    "    print(i)\n",
    "    i += 1       #相当于 i = i + 1，递增计数器"
   ]
  },
  {
   "cell_type": "markdown",
   "metadata": {},
   "source": [
    "列表：dates = [1982, 1980, 1973, 2000]\n",
    "\n",
    "假设我们想要遍历列表 <code>dates</code> 并在到达年份 1973 时停止，然后打印出迭代的次数。这可以通过以下代码块来实现："
   ]
  },
  {
   "cell_type": "code",
   "execution_count": 22,
   "metadata": {
    "tags": []
   },
   "outputs": [
    {
     "name": "stdout",
     "output_type": "stream",
     "text": [
      "1982\n",
      "1980\n",
      "需要 2 次，结束循环\n"
     ]
    }
   ],
   "source": [
    "dates = [1982, 1980, 1973, 2000]   #定义了一个名为 dates 的列表\n",
    "\n",
    "year = dates[0]             #将列表 dates 的第一个元素（1982）赋值给变量 year。因为列表索引从 0 开始\n",
    "while(year != 1973):     # !=：不等于操作符，用于比较 year 变量存储的年份值，是否 “不等于 1973 ”\n",
    "    print(year)\n",
    "    i += 1              #如果 true 则持续循环\n",
    "    year = dates[i]\n",
    "                       #如果false，则结束了循环\n",
    "\n",
    "print(\"需要\", i ,\"次，结束循环\")"
   ]
  },
  {
   "cell_type": "markdown",
   "metadata": {},
   "source": [
    "\n",
    "**The main difference between a while loop and a for loop in Python is how they control the flow of execution and handle iterations.**\n"
   ]
  },
  {
   "cell_type": "markdown",
   "metadata": {},
   "source": [
    "### Key point of While Loop:\n",
    "\n",
    "1. `while` 循环会重复执行一段代码，只要给定的条件为真。\n",
    "2. 它没有固定的迭代次数，而是在条件变为假之前持续执行。\n",
    "3. 在每次迭代之前会检查条件，如果最初条件为假，则完全跳过代码块。\n",
    "4. 条件通常基于可以在循环执行期间改变的变量或表达式。\n",
    "5. 它在控制循环执行方面提供了更大的灵活性，基于动态条件进行控制。\n"
   ]
  },
  {
   "cell_type": "markdown",
   "metadata": {},
   "source": [
    "### Key point of For Loop:\n",
    "\n",
    "1. `for` 循环遍历一个序列（如列表、字符串或 `range`），或任何支持迭代的对象。\n",
    "2. 它基于序列的长度或要遍历的项目数量，有一个预定的迭代次数。\n",
    "3. 它自动处理迭代过程，不需要维护一个单独的变量来跟踪迭代计数。\n",
    "4. 它通过在循环本身内部封装迭代逻辑，简化了代码。\n",
    "5. 当你知道确切的迭代次数或需要遍历集合中的每个项目时，通常使用 `for` 循环。\n"
   ]
  },
  {
   "cell_type": "markdown",
   "metadata": {},
   "source": [
    "<hr>\n"
   ]
  },
  {
   "cell_type": "markdown",
   "metadata": {},
   "source": [
    "<h2 id=\"quiz\">Practise Exercises on Loops</h2>\n"
   ]
  },
  {
   "cell_type": "markdown",
   "metadata": {},
   "source": [
    "Write a <code>for</code> loop the prints out all the element between <b>-5</b> and <b>5</b> using the range function.\n"
   ]
  },
  {
   "cell_type": "code",
   "execution_count": 24,
   "metadata": {
    "tags": []
   },
   "outputs": [
    {
     "name": "stdout",
     "output_type": "stream",
     "text": [
      "-5\n",
      "-4\n",
      "-3\n",
      "-2\n",
      "-1\n",
      "0\n",
      "1\n",
      "2\n",
      "3\n",
      "4\n",
      "5\n"
     ]
    }
   ],
   "source": [
    "for i in range(-5,6):\n",
    "    print(i)"
   ]
  },
  {
   "cell_type": "markdown",
   "metadata": {},
   "source": [
    "Print the elements of the following list:\n",
    "<code>Genres=[ 'rock', 'R&B', 'Soundtrack', 'R&B', 'soul', 'pop']</code>\n",
    "Make sure you follow Python conventions.\n"
   ]
  },
  {
   "cell_type": "code",
   "execution_count": 25,
   "metadata": {
    "tags": []
   },
   "outputs": [
    {
     "name": "stdout",
     "output_type": "stream",
     "text": [
      "rock\n",
      "R&B\n",
      "Soundtrack\n",
      "R&B\n",
      "soul\n",
      "pop\n"
     ]
    }
   ],
   "source": [
    "Genres = [\"rock\",\"R&B\",\"Soundtrack\",\"R&B\",\"soul\",\"pop\"]\n",
    "for i in Genres:\n",
    "    print(i)"
   ]
  },
  {
   "cell_type": "markdown",
   "metadata": {},
   "source": [
    "Write a for loop that prints out the following list: <code>squares=['red', 'yellow', 'green', 'purple', 'blue']</code>\n"
   ]
  },
  {
   "cell_type": "code",
   "execution_count": 26,
   "metadata": {
    "tags": []
   },
   "outputs": [
    {
     "name": "stdout",
     "output_type": "stream",
     "text": [
      "red\n",
      "yellow\n",
      "green\n",
      "purple\n",
      "blue\n"
     ]
    }
   ],
   "source": [
    "squares = [\"red\",\"yellow\",\"green\",\"purple\",\"blue\"]\n",
    "for i in squares:\n",
    "    print(i)"
   ]
  },
  {
   "cell_type": "markdown",
   "metadata": {},
   "source": [
    "Write a while loop to display the values of the Rating of an album playlist stored in the list <code>PlayListRatings</code>. If the score is less than 6, exit the loop. The list <code>PlayListRatings</code> is given by: <code>PlayListRatings = [10, 9.5, 10, 8, 7.5, 5, 10, 10]</code>\n"
   ]
  },
  {
   "cell_type": "code",
   "execution_count": 43,
   "metadata": {
    "tags": []
   },
   "outputs": [
    {
     "name": "stdout",
     "output_type": "stream",
     "text": [
      "10\n",
      "9.5\n",
      "10\n",
      "8\n",
      "7.5\n"
     ]
    }
   ],
   "source": [
    "PlayListRatings = [10, 9.5, 10, 8, 7.5, 5, 10, 10]\n",
    "i = 0\n",
    "\n",
    "while i < len(PlayListRatings):   #while 循环的条件 i < len(PlayListRatings) 确保了 i 是在列表 PlayListRatings 的索引范围内\n",
    "    if PlayListRatings[i] < 6:\n",
    "        break\n",
    "    print(PlayListRatings[i])\n",
    "    i += 1"
   ]
  },
  {
   "cell_type": "markdown",
   "metadata": {},
   "source": [
    "将字符串 'orange' 从列表 squares 复制到列表 new_squares 的 while 循环的代码，如果列表中的值不是 'orange'，则停止并退出循环：\n"
   ]
  },
  {
   "cell_type": "code",
   "execution_count": null,
   "metadata": {
    "tags": []
   },
   "outputs": [],
   "source": [
    "squares = ['orange', 'orange', 'purple', 'blue', 'orange']\n",
    "new_squares = []  # 新建一个空的新列表\n",
    "i = 0\n",
    "while i < len(squares):\n",
    "    if squares[i] != \"orange\":  # 确保字符串匹配时没有多余的空格\n",
    "        break\n",
    "    new_squares.append(squares[i])\n",
    "    i += 1\n",
    "print(new_squares)  # 打印结果，以验证代码是否执行"
   ]
  },
  {
   "cell_type": "markdown",
   "metadata": {},
   "source": [
    "### Some real-life problems!\n"
   ]
  },
  {
   "cell_type": "markdown",
   "metadata": {},
   "source": [
    "Your little brother has just learned multiplication tables in school. Today he has learned tables of 6 and 7. Help him memorise both the tables by printing them using <code>for</code> loop.\n"
   ]
  },
  {
   "cell_type": "code",
   "execution_count": null,
   "metadata": {
    "tags": []
   },
   "outputs": [],
   "source": [
    "for i in range(11):\n",
    "    print(\"6*\",i,\"=\",6*i)\n",
    "for x in range(11):\n",
    "    print(\"7*\",x,\"=\",7*i)"
   ]
  },
  {
   "cell_type": "markdown",
   "metadata": {},
   "source": [
    "- 帮助您的兄弟找到那些名字由7个字母组成的动物，您可以使用一个 while 循环来遍历列表 Animals，检查每个动物名称的长度，并根据条件将它们添加到一个新的列表中\n",
    "<code>\n",
    "- Animals = [\"lion\", \"giraffe\", \"gorilla\", \"parrots\", \"crocodile\",\"deer\", \"swan\"]</code>\n"
   ]
  },
  {
   "cell_type": "code",
   "execution_count": null,
   "metadata": {
    "tags": []
   },
   "outputs": [],
   "source": [
    "Animals = [\"lion\", \"giraffe\", \"gorilla\", \"parrots\", \"crocodile\",\"deer\", \"swan\"]\n",
    "separate_list = []\n",
    "i = 0\n",
    "\n",
    "while i < len(Animals):\n",
    "    if len(Animals[i]) == 7:\n",
    "        separate_list.append(Animals[i])\n",
    "    i += 1\n",
    "print(separate_list)"
   ]
  }
 ],
 "metadata": {
  "kernelspec": {
   "display_name": "Python",
   "language": "python",
   "name": "conda-env-python-py"
  },
  "language_info": {
   "codemirror_mode": {
    "name": "ipython",
    "version": 3
   },
   "file_extension": ".py",
   "mimetype": "text/x-python",
   "name": "python",
   "nbconvert_exporter": "python",
   "pygments_lexer": "ipython3",
   "version": "3.7.12"
  }
 },
 "nbformat": 4,
 "nbformat_minor": 4
}
