{
 "cells": [
  {
   "cell_type": "markdown",
   "id": "3c0918aa-6611-4581-81d6-ab12bb1940a7",
   "metadata": {},
   "source": [
    "# Data Science Tools and Ecosystem"
   ]
  },
  {
   "cell_type": "markdown",
   "id": "fc2fdeb3-11ff-445a-b677-905afdbe317f",
   "metadata": {},
   "source": [
    "In this notebook, Data Science Tools and Ecosystem are summarized."
   ]
  },
  {
   "cell_type": "markdown",
   "id": "c8aaabdf-5eab-454c-8bf7-77b311bf2024",
   "metadata": {},
   "source": [
    "**objectives**\n",
    "- List popular languages for Data Science : R python SQL\n",
    "- Understand the role of Jupyter Notebooks in Data Science workflows\n",
    "- Learn to use essential data manipulation libraries like Pandas\n",
    "- Explore data visualization techniques with libraries such as Matplotlib\n",
    "- Apply machine learning algorithms using Scikit-learn"
   ]
  },
  {
   "cell_type": "markdown",
   "id": "1e36f97d-5d3f-445a-8fd8-9ea1c5f328e1",
   "metadata": {},
   "source": [
    "Some of the commonly used libraries used by Data Scientists include:\n",
    "1. NumPy - for numerical computing\n",
    "2. Pandas - for data manipulation and analysis\n",
    "3. Matplotlib - for data visualization"
   ]
  },
  {
   "cell_type": "markdown",
   "id": "4a5ec1d4-a2f1-4730-81fd-77dd02cb214a",
   "metadata": {},
   "source": [
    "Some of the commonly used libraries used by Data Scientists include:\n",
    "\n",
    "- NumPy: for numerical computing\n",
    "- Pandas: for data manipulation and analysis\n",
    "- Scikit-learn: for machine learning\n",
    "- Matplotlib: for data visualization"
   ]
  },
  {
   "cell_type": "markdown",
   "id": "d6aa5ed3-c071-443d-8ebb-c9b56fd24cdf",
   "metadata": {},
   "source": [
    "| Data Science Tools |\n",
    "| ------------------ |\n",
    "| 1. Numpy |\n",
    "| 2. Pandas |\n",
    "| 3. Matplotlib |"
   ]
  },
  {
   "cell_type": "markdown",
   "id": "8a0b7ae9-9183-4039-bafa-3a1202158540",
   "metadata": {},
   "source": [
    "### Below are a few examples of evaluating arithmetic expressions in Python"
   ]
  },
  {
   "cell_type": "code",
   "execution_count": 3,
   "id": "d927b0e0-2faa-48b6-ab28-ba5c8ac269b6",
   "metadata": {
    "tags": []
   },
   "outputs": [],
   "source": [
    "# This a simple arithmetic expression to mutiply then add integers"
   ]
  },
  {
   "cell_type": "code",
   "execution_count": 1,
   "id": "afb628dd-57a6-4995-9c66-7d80b4970acf",
   "metadata": {
    "tags": []
   },
   "outputs": [
    {
     "data": {
      "text/plain": [
       "17"
      ]
     },
     "execution_count": 1,
     "metadata": {},
     "output_type": "execute_result"
    }
   ],
   "source": [
    "(3*4)+5"
   ]
  },
  {
   "cell_type": "code",
   "execution_count": 4,
   "id": "8a89f24b-8345-49ba-9262-0d0c96479b76",
   "metadata": {
    "tags": []
   },
   "outputs": [],
   "source": [
    "# This will convert 200 minutes to hours by diving by 60"
   ]
  },
  {
   "cell_type": "code",
   "execution_count": 12,
   "id": "0c8ad04a-13b2-4c6d-bd07-d961b02ef805",
   "metadata": {
    "tags": []
   },
   "outputs": [
    {
     "name": "stdout",
     "output_type": "stream",
     "text": [
      "3.3333333333333335\n"
     ]
    }
   ],
   "source": [
    "hours = 200/60\n",
    "print(hours)"
   ]
  },
  {
   "cell_type": "markdown",
   "id": "3a71fbb4-cdfe-4cbe-a54c-4d2656275272",
   "metadata": {},
   "source": [
    "## Author\n",
    "Jiashen Xu\n"
   ]
  },
  {
   "cell_type": "code",
   "execution_count": null,
   "id": "066889e4-9f42-4100-9c41-9139edd202eb",
   "metadata": {},
   "outputs": [],
   "source": []
  }
 ],
 "metadata": {
  "kernelspec": {
   "display_name": "Python",
   "language": "python",
   "name": "conda-env-python-py"
  },
  "language_info": {
   "codemirror_mode": {
    "name": "ipython",
    "version": 3
   },
   "file_extension": ".py",
   "mimetype": "text/x-python",
   "name": "python",
   "nbconvert_exporter": "python",
   "pygments_lexer": "ipython3",
   "version": "3.7.12"
  }
 },
 "nbformat": 4,
 "nbformat_minor": 5
}
